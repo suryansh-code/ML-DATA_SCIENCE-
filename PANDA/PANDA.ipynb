{
 "cells": [
  {
   "cell_type": "code",
   "execution_count": 1,
   "id": "2e7e60b2",
   "metadata": {},
   "outputs": [
    {
     "name": "stdout",
     "output_type": "stream",
     "text": [
      " i am back \n"
     ]
    }
   ],
   "source": [
    "print(' i am back ')"
   ]
  },
  {
   "cell_type": "code",
   "execution_count": 2,
   "id": "d57ca102",
   "metadata": {},
   "outputs": [
    {
     "name": "stdout",
     "output_type": "stream",
     "text": [
      "we are going to become a data scientist this year\n"
     ]
    }
   ],
   "source": [
    "print(\"we are going to become a data scientist this year\")"
   ]
  },
  {
   "cell_type": "code",
   "execution_count": 3,
   "id": "ea21e8a4",
   "metadata": {},
   "outputs": [
    {
     "data": {
      "text/plain": [
       "2"
      ]
     },
     "execution_count": 3,
     "metadata": {},
     "output_type": "execute_result"
    }
   ],
   "source": [
    "1+1\n"
   ]
  },
  {
   "cell_type": "markdown",
   "id": "3bffb213",
   "metadata": {},
   "source": [
    " ## machine learning\n",
    " \n",
    " from here we do ML"
   ]
  },
  {
   "cell_type": "code",
   "execution_count": 1,
   "id": "426090d5",
   "metadata": {},
   "outputs": [
    {
     "data": {
      "text/html": [
       "<div>\n",
       "<style scoped>\n",
       "    .dataframe tbody tr th:only-of-type {\n",
       "        vertical-align: middle;\n",
       "    }\n",
       "\n",
       "    .dataframe tbody tr th {\n",
       "        vertical-align: top;\n",
       "    }\n",
       "\n",
       "    .dataframe thead th {\n",
       "        text-align: right;\n",
       "    }\n",
       "</style>\n",
       "<table border=\"1\" class=\"dataframe\">\n",
       "  <thead>\n",
       "    <tr style=\"text-align: right;\">\n",
       "      <th></th>\n",
       "      <th>age</th>\n",
       "      <th>sex</th>\n",
       "      <th>cp</th>\n",
       "      <th>trestbps</th>\n",
       "      <th>chol</th>\n",
       "      <th>fbs</th>\n",
       "      <th>restecg</th>\n",
       "      <th>thalach</th>\n",
       "      <th>exang</th>\n",
       "      <th>oldpeak</th>\n",
       "      <th>slope</th>\n",
       "      <th>ca</th>\n",
       "      <th>thal</th>\n",
       "      <th>target</th>\n",
       "    </tr>\n",
       "  </thead>\n",
       "  <tbody>\n",
       "    <tr>\n",
       "      <th>0</th>\n",
       "      <td>63</td>\n",
       "      <td>1</td>\n",
       "      <td>3</td>\n",
       "      <td>145</td>\n",
       "      <td>233</td>\n",
       "      <td>1</td>\n",
       "      <td>0</td>\n",
       "      <td>150</td>\n",
       "      <td>0</td>\n",
       "      <td>2.3</td>\n",
       "      <td>0</td>\n",
       "      <td>0</td>\n",
       "      <td>1</td>\n",
       "      <td>1</td>\n",
       "    </tr>\n",
       "    <tr>\n",
       "      <th>1</th>\n",
       "      <td>37</td>\n",
       "      <td>1</td>\n",
       "      <td>2</td>\n",
       "      <td>130</td>\n",
       "      <td>250</td>\n",
       "      <td>0</td>\n",
       "      <td>1</td>\n",
       "      <td>187</td>\n",
       "      <td>0</td>\n",
       "      <td>3.5</td>\n",
       "      <td>0</td>\n",
       "      <td>0</td>\n",
       "      <td>2</td>\n",
       "      <td>1</td>\n",
       "    </tr>\n",
       "    <tr>\n",
       "      <th>2</th>\n",
       "      <td>41</td>\n",
       "      <td>0</td>\n",
       "      <td>1</td>\n",
       "      <td>130</td>\n",
       "      <td>204</td>\n",
       "      <td>0</td>\n",
       "      <td>0</td>\n",
       "      <td>172</td>\n",
       "      <td>0</td>\n",
       "      <td>1.4</td>\n",
       "      <td>2</td>\n",
       "      <td>0</td>\n",
       "      <td>2</td>\n",
       "      <td>1</td>\n",
       "    </tr>\n",
       "    <tr>\n",
       "      <th>3</th>\n",
       "      <td>56</td>\n",
       "      <td>1</td>\n",
       "      <td>1</td>\n",
       "      <td>120</td>\n",
       "      <td>236</td>\n",
       "      <td>0</td>\n",
       "      <td>1</td>\n",
       "      <td>178</td>\n",
       "      <td>0</td>\n",
       "      <td>0.8</td>\n",
       "      <td>2</td>\n",
       "      <td>0</td>\n",
       "      <td>2</td>\n",
       "      <td>1</td>\n",
       "    </tr>\n",
       "    <tr>\n",
       "      <th>4</th>\n",
       "      <td>57</td>\n",
       "      <td>0</td>\n",
       "      <td>0</td>\n",
       "      <td>120</td>\n",
       "      <td>354</td>\n",
       "      <td>0</td>\n",
       "      <td>1</td>\n",
       "      <td>163</td>\n",
       "      <td>1</td>\n",
       "      <td>0.6</td>\n",
       "      <td>2</td>\n",
       "      <td>0</td>\n",
       "      <td>2</td>\n",
       "      <td>1</td>\n",
       "    </tr>\n",
       "  </tbody>\n",
       "</table>\n",
       "</div>"
      ],
      "text/plain": [
       "   age  sex  cp  trestbps  chol  fbs  restecg  thalach  exang  oldpeak  slope  \\\n",
       "0   63    1   3       145   233    1        0      150      0      2.3      0   \n",
       "1   37    1   2       130   250    0        1      187      0      3.5      0   \n",
       "2   41    0   1       130   204    0        0      172      0      1.4      2   \n",
       "3   56    1   1       120   236    0        1      178      0      0.8      2   \n",
       "4   57    0   0       120   354    0        1      163      1      0.6      2   \n",
       "\n",
       "   ca  thal  target  \n",
       "0   0     1       1  \n",
       "1   0     2       1  \n",
       "2   0     2       1  \n",
       "3   0     2       1  \n",
       "4   0     2       1  "
      ]
     },
     "execution_count": 1,
     "metadata": {},
     "output_type": "execute_result"
    }
   ],
   "source": [
    "import pandas as pd\n",
    "df=pd.read_csv(\"heart-disease.csv\")\n",
    "df.head()"
   ]
  },
  {
   "cell_type": "code",
   "execution_count": 4,
   "id": "bf02c7b2",
   "metadata": {},
   "outputs": [
    {
     "data": {
      "text/plain": [
       "<AxesSubplot:>"
      ]
     },
     "execution_count": 4,
     "metadata": {},
     "output_type": "execute_result"
    },
    {
     "data": {
      "image/png": "[encoded data removed]",
      "text/plain": [
       "<Figure size 432x288 with 1 Axes>"
      ]
     },
     "metadata": {
      "needs_background": "light"
     },
     "output_type": "display_data"
    }
   ],
   "source": [
    "import matplotlib.pyplot as plt\n",
    "df.target.value_counts().plot(kind=\"bar\")\n",
    "    "
   ]
  },
  {
   "cell_type": "markdown",
   "id": "3a1a152b",
   "metadata": {},
   "source": [
    "## we can import the image also\n",
    "![ title](img/picture. png)"
   ]
  },
  {
   "cell_type": "markdown",
   "id": "27bb8632",
   "metadata": {},
   "source": [
    "![](6-step-ml-framework.png)"
   ]
  },
  {
   "cell_type": "markdown",
   "id": "a0406bc8",
   "metadata": {},
   "source": [
    "## PANDAS\n",
    "\n",
    "easy to use.....\n",
    "integrate with many other data science &ML python tools.....\n",
    "Helps you to get your data ready for machine learning"
   ]
  },
  {
   "cell_type": "code",
   "execution_count": 3,
   "id": "8cd88aca",
   "metadata": {},
   "outputs": [],
   "source": [
    "import pandas as pd\n"
   ]
  },
  {
   "cell_type": "code",
   "execution_count": 5,
   "id": "82bb0f39",
   "metadata": {},
   "outputs": [
    {
     "name": "stdout",
     "output_type": "stream",
     "text": [
      "0       red\n",
      "1     green\n",
      "2      blue\n",
      "3    yellow\n",
      "dtype: object\n"
     ]
    }
   ],
   "source": [
    "# printing the 1 dimensional series\n",
    "# series is one dimensional\n",
    "color=pd.Series([\"red\",\"green\",\"blue\",\"yellow\"])\n",
    "print(color)"
   ]
  },
  {
   "cell_type": "code",
   "execution_count": 7,
   "id": "600a4b8e",
   "metadata": {},
   "outputs": [
    {
     "name": "stdout",
     "output_type": "stream",
     "text": [
      "      car   color\n",
      "0    tata     red\n",
      "1   honda  yellow\n",
      "2  suzuki   greem\n",
      "3  maruti    blue\n"
     ]
    }
   ],
   "source": [
    "# 2-dimensional - DataFrame \n",
    "color=[\"red\",\"yellow\",\"greem\",\"blue\"]\n",
    "car=[\"tata\",\"honda\",\"suzuki\",\"maruti\"]\n",
    "car=pd.DataFrame({\"car\":car,\"color\":color})\n",
    "print(car)\n"
   ]
  },
  {
   "cell_type": "code",
   "execution_count": 1,
   "id": "600b3cfd",
   "metadata": {},
   "outputs": [],
   "source": [
    "#importing the csv file in the panda"
   ]
  },
  {
   "cell_type": "code",
   "execution_count": 10,
   "id": "1cd1b481",
   "metadata": {},
   "outputs": [
    {
     "name": "stdout",
     "output_type": "stream",
     "text": [
      "     Make Colour  Odometer (KM)  Doors       Price\n",
      "0  Toyota  White         150043      4   $4,000.00\n",
      "1   Honda    Red          87899      4   $5,000.00\n",
      "2  Toyota   Blue          32549      3   $7,000.00\n",
      "3     BMW  Black          11179      5  $22,000.00\n",
      "4  Nissan  White         213095      4   $3,500.00\n",
      "5  Toyota  Green          99213      4   $4,500.00\n",
      "6   Honda   Blue          45698      4   $7,500.00\n",
      "7   Honda   Blue          54738      4   $7,000.00\n",
      "8  Toyota  White          60000      4   $6,250.00\n",
      "9  Nissan  White          31600      4   $9,700.00\n"
     ]
    }
   ],
   "source": [
    "car_sales=pd.read_csv(\"car-sales.csv\")\n",
    "print(car_sales)"
   ]
  },
  {
   "cell_type": "code",
   "execution_count": 5,
   "id": "d5bf6ff4",
   "metadata": {},
   "outputs": [],
   "source": [
    "#exporting the csv file from panda to folder\n"
   ]
  },
  {
   "cell_type": "code",
   "execution_count": 6,
   "id": "09911446",
   "metadata": {},
   "outputs": [],
   "source": [
    "car_sales.to_csv(\"exported-car-sales.csv\")\n",
    "#this will save the csv file to folder "
   ]
  },
  {
   "cell_type": "code",
   "execution_count": 8,
   "id": "34509c0c",
   "metadata": {},
   "outputs": [
    {
     "name": "stdout",
     "output_type": "stream",
     "text": [
      "     age  sex  cp  trestbps  chol  fbs  restecg  thalach  exang  oldpeak  \\\n",
      "0     63    1   3       145   233    1        0      150      0      2.3   \n",
      "1     37    1   2       130   250    0        1      187      0      3.5   \n",
      "2     41    0   1       130   204    0        0      172      0      1.4   \n",
      "3     56    1   1       120   236    0        1      178      0      0.8   \n",
      "4     57    0   0       120   354    0        1      163      1      0.6   \n",
      "..   ...  ...  ..       ...   ...  ...      ...      ...    ...      ...   \n",
      "298   57    0   0       140   241    0        1      123      1      0.2   \n",
      "299   45    1   3       110   264    0        1      132      0      1.2   \n",
      "300   68    1   0       144   193    1        1      141      0      3.4   \n",
      "301   57    1   0       130   131    0        1      115      1      1.2   \n",
      "302   57    0   1       130   236    0        0      174      0      0.0   \n",
      "\n",
      "     slope  ca  thal  target  \n",
      "0        0   0     1       1  \n",
      "1        0   0     2       1  \n",
      "2        2   0     2       1  \n",
      "3        2   0     2       1  \n",
      "4        2   0     2       1  \n",
      "..     ...  ..   ...     ...  \n",
      "298      1   0     3       0  \n",
      "299      1   0     3       0  \n",
      "300      1   2     3       0  \n",
      "301      1   1     3       0  \n",
      "302      1   1     2       0  \n",
      "\n",
      "[303 rows x 14 columns]\n"
     ]
    }
   ],
   "source": [
    "#we can read csv file using the url also\n",
    "heart_disease = pd.read_csv(\"https://raw.githubusercontent.com/mrdbourke/zero-to-mastery-ml/master/data/heart-disease.csv\")\n",
    "print(heart_disease)"
   ]
  },
  {
   "cell_type": "markdown",
   "id": "6a6bab29",
   "metadata": {},
   "source": [
    "## describe data\n",
    "\n",
    "gives the types of the data types"
   ]
  },
  {
   "cell_type": "code",
   "execution_count": 17,
   "id": "28490d94",
   "metadata": {},
   "outputs": [
    {
     "name": "stdout",
     "output_type": "stream",
     "text": [
      "Make             object\n",
      "Colour           object\n",
      "Odometer (KM)     int64\n",
      "Doors             int64\n",
      "Price            object\n",
      "dtype: object\n"
     ]
    }
   ],
   "source": [
    "# these are attributes which do not contains () brackets\n",
    "print(car_sales.dtypes)"
   ]
  },
  {
   "cell_type": "code",
   "execution_count": 9,
   "id": "710e4d61",
   "metadata": {},
   "outputs": [
    {
     "name": "stdout",
     "output_type": "stream",
     "text": [
      "Index(['Make', 'Colour', 'Odometer (KM)', 'Doors', 'Price'], dtype='object')\n"
     ]
    }
   ],
   "source": [
    "print(car_sales.columns)"
   ]
  },
  {
   "cell_type": "code",
   "execution_count": 10,
   "id": "09de5db4",
   "metadata": {},
   "outputs": [
    {
     "name": "stdout",
     "output_type": "stream",
     "text": [
      "RangeIndex(start=0, stop=10, step=1)\n"
     ]
    }
   ],
   "source": [
    "print(car_sales.index)"
   ]
  },
  {
   "cell_type": "code",
   "execution_count": 11,
   "id": "a996b3c5",
   "metadata": {},
   "outputs": [
    {
     "name": "stdout",
     "output_type": "stream",
     "text": [
      "       Odometer (KM)      Doors\n",
      "count      10.000000  10.000000\n",
      "mean    78601.400000   4.000000\n",
      "std     61983.471735   0.471405\n",
      "min     11179.000000   3.000000\n",
      "25%     35836.250000   4.000000\n",
      "50%     57369.000000   4.000000\n",
      "75%     96384.500000   4.000000\n",
      "max    213095.000000   5.000000\n"
     ]
    }
   ],
   "source": [
    "# the functions contains the () brackets\n",
    "print(car_sales.describe())"
   ]
  },
  {
   "cell_type": "code",
   "execution_count": 12,
   "id": "26ba05cb",
   "metadata": {},
   "outputs": [
    {
     "name": "stdout",
     "output_type": "stream",
     "text": [
      "<class 'pandas.core.frame.DataFrame'>\n",
      "RangeIndex: 10 entries, 0 to 9\n",
      "Data columns (total 5 columns):\n",
      " #   Column         Non-Null Count  Dtype \n",
      "---  ------         --------------  ----- \n",
      " 0   Make           10 non-null     object\n",
      " 1   Colour         10 non-null     object\n",
      " 2   Odometer (KM)  10 non-null     int64 \n",
      " 3   Doors          10 non-null     int64 \n",
      " 4   Price          10 non-null     object\n",
      "dtypes: int64(2), object(3)\n",
      "memory usage: 528.0+ bytes\n",
      "None\n"
     ]
    }
   ],
   "source": [
    "print(car_sales.info())"
   ]
  },
  {
   "cell_type": "code",
   "execution_count": 13,
   "id": "23b84c4f",
   "metadata": {},
   "outputs": [
    {
     "name": "stdout",
     "output_type": "stream",
     "text": [
      "Odometer (KM)    78601.4\n",
      "Doors                4.0\n",
      "dtype: float64\n"
     ]
    },
    {
     "name": "stderr",
     "output_type": "stream",
     "text": [
      "C:\\Users\\tarag\\AppData\\Local\\Temp\\ipykernel_14128\\1605838115.py:1: FutureWarning: Dropping of nuisance columns in DataFrame reductions (with 'numeric_only=None') is deprecated; in a future version this will raise TypeError.  Select only valid columns before calling the reduction.\n",
      "  print(car_sales.mean())\n"
     ]
    }
   ],
   "source": [
    "print(car_sales.mean())"
   ]
  },
  {
   "cell_type": "code",
   "execution_count": 23,
   "id": "f3e9e7ab",
   "metadata": {},
   "outputs": [
    {
     "name": "stdout",
     "output_type": "stream",
     "text": [
      "314200.0\n"
     ]
    }
   ],
   "source": [
    "#this will give the mean of these numbers\n",
    "number=[121,1312,14124,1241243]\n",
    "avg=pd.Series(number)\n",
    "print(avg.mean())"
   ]
  },
  {
   "cell_type": "code",
   "execution_count": 24,
   "id": "adfe3aa6",
   "metadata": {},
   "outputs": [
    {
     "name": "stdout",
     "output_type": "stream",
     "text": [
      "Make             ToyotaHondaToyotaBMWNissanToyotaHondaHondaToyo...\n",
      "Colour               WhiteRedBlueBlackWhiteGreenBlueBlueWhiteWhite\n",
      "Odometer (KM)                                               786014\n",
      "Doors                                                           40\n",
      "Price            $4,000.00$5,000.00$7,000.00$22,000.00$3,500.00...\n",
      "dtype: object\n"
     ]
    }
   ],
   "source": [
    "#this will sum of or concatenate or combine all the coulumn value\n",
    "print(car_sales.sum())"
   ]
  },
  {
   "cell_type": "code",
   "execution_count": 25,
   "id": "a6b02cf2",
   "metadata": {},
   "outputs": [
    {
     "name": "stdout",
     "output_type": "stream",
     "text": [
      "40\n"
     ]
    }
   ],
   "source": [
    "#if we want to select only a simgle value\n",
    "print(car_sales[\"Doors\"].sum())"
   ]
  },
  {
   "cell_type": "code",
   "execution_count": 27,
   "id": "62807482",
   "metadata": {},
   "outputs": [
    {
     "name": "stdout",
     "output_type": "stream",
     "text": [
      "10\n"
     ]
    }
   ],
   "source": [
    "#we can get the length of the data frames\n",
    "print(len(car_sales))"
   ]
  },
  {
   "cell_type": "markdown",
   "id": "479fb4dd",
   "metadata": {},
   "source": [
    "## VIEWING AND SELECTING THE DATA"
   ]
  },
  {
   "cell_type": "code",
   "execution_count": 29,
   "id": "c5641a57",
   "metadata": {},
   "outputs": [
    {
     "name": "stdout",
     "output_type": "stream",
     "text": [
      "     Make Colour  Odometer (KM)  Doors       Price\n",
      "0  Toyota  White         150043      4   $4,000.00\n",
      "1   Honda    Red          87899      4   $5,000.00\n",
      "2  Toyota   Blue          32549      3   $7,000.00\n",
      "3     BMW  Black          11179      5  $22,000.00\n",
      "4  Nissan  White         213095      4   $3,500.00\n"
     ]
    }
   ],
   "source": [
    "# THE HEAD FUNCTION GIVES THE QUICK SNAPSHOT MEANS A IDEA BY GIVING ONLY SOME ROWS THAT WHAT ARE ROWEA IS LOOKING LIKE\n",
    "print(car_sales.head())"
   ]
  },
  {
   "cell_type": "code",
   "execution_count": 30,
   "id": "00a60be3",
   "metadata": {
    "scrolled": true
   },
   "outputs": [
    {
     "name": "stdout",
     "output_type": "stream",
     "text": [
      "     Make Colour  Odometer (KM)  Doors       Price\n",
      "0  Toyota  White         150043      4   $4,000.00\n",
      "1   Honda    Red          87899      4   $5,000.00\n",
      "2  Toyota   Blue          32549      3   $7,000.00\n",
      "3     BMW  Black          11179      5  $22,000.00\n",
      "4  Nissan  White         213095      4   $3,500.00\n",
      "5  Toyota  Green          99213      4   $4,500.00\n",
      "6   Honda   Blue          45698      4   $7,500.00\n"
     ]
    }
   ],
   "source": [
    "#if we want top 7 rows\n",
    "print(car_sales.head(7))"
   ]
  },
  {
   "cell_type": "code",
   "execution_count": 33,
   "id": "7312997f",
   "metadata": {},
   "outputs": [
    {
     "name": "stdout",
     "output_type": "stream",
     "text": [
      "     Make Colour  Odometer (KM)  Doors      Price\n",
      "5  Toyota  Green          99213      4  $4,500.00\n",
      "6   Honda   Blue          45698      4  $7,500.00\n",
      "7   Honda   Blue          54738      4  $7,000.00\n",
      "8  Toyota  White          60000      4  $6,250.00\n",
      "9  Nissan  White          31600      4  $9,700.00\n",
      "\n",
      "     Make Colour  Odometer (KM)  Doors      Price\n",
      "5  Toyota  Green          99213      4  $4,500.00\n",
      "6   Honda   Blue          45698      4  $7,500.00\n",
      "7   Honda   Blue          54738      4  $7,000.00\n",
      "8  Toyota  White          60000      4  $6,250.00\n",
      "9  Nissan  White          31600      4  $9,700.00\n"
     ]
    }
   ],
   "source": [
    "# if we want the bottom elementrs \n",
    "print(car_sales.tail())\n",
    "print()\n",
    "print(car_sales.tail())"
   ]
  },
  {
   "cell_type": "markdown",
   "id": "658450c9",
   "metadata": {},
   "source": [
    "## loc and iloc"
   ]
  },
  {
   "cell_type": "code",
   "execution_count": 35,
   "id": "6180e8b1",
   "metadata": {},
   "outputs": [
    {
     "name": "stdout",
     "output_type": "stream",
     "text": [
      "0    elephant\n",
      "2      monkey\n",
      "1        bear\n",
      "3       tiger\n",
      "dtype: object\n"
     ]
    }
   ],
   "source": [
    "animals=[\"elephant\",\"monkey\",\"bear\",\"tiger\"]\n",
    "ani=pd.Series(animals,index=[0,2,1,3])\n",
    "print(ani)"
   ]
  },
  {
   "cell_type": "code",
   "execution_count": 38,
   "id": "83639550",
   "metadata": {},
   "outputs": [
    {
     "name": "stdout",
     "output_type": "stream",
     "text": [
      "tiger\n"
     ]
    }
   ],
   "source": [
    "# use of loc :- location\n",
    "print(ani.loc[3])"
   ]
  },
  {
   "cell_type": "code",
   "execution_count": 40,
   "id": "0b8d06db",
   "metadata": {},
   "outputs": [
    {
     "name": "stdout",
     "output_type": "stream",
     "text": [
      "     Make Colour  Odometer (KM)  Doors       Price\n",
      "0  Toyota  White         150043      4   $4,000.00\n",
      "1   Honda    Red          87899      4   $5,000.00\n",
      "2  Toyota   Blue          32549      3   $7,000.00\n",
      "3     BMW  Black          11179      5  $22,000.00\n",
      "4  Nissan  White         213095      4   $3,500.00\n",
      "5  Toyota  Green          99213      4   $4,500.00\n",
      "6   Honda   Blue          45698      4   $7,500.00\n",
      "7   Honda   Blue          54738      4   $7,000.00\n",
      "8  Toyota  White          60000      4   $6,250.00\n",
      "9  Nissan  White          31600      4   $9,700.00\n",
      "\n",
      "\n",
      "Make                    BMW\n",
      "Colour                Black\n",
      "Odometer (KM)         11179\n",
      "Doors                     5\n",
      "Price            $22,000.00\n",
      "Name: 3, dtype: object\n"
     ]
    }
   ],
   "source": [
    "print(car_sales)\n",
    "print()\n",
    "print()\n",
    "print(car_sales.loc[3])\n"
   ]
  },
  {
   "cell_type": "code",
   "execution_count": 41,
   "id": "8d731343",
   "metadata": {},
   "outputs": [],
   "source": [
    "#use of iloc:- this give the position means if we put car_sales.iloc[3] this will jump\n",
    "#3 index downword no matter what index we have provided to him"
   ]
  },
  {
   "cell_type": "code",
   "execution_count": 44,
   "id": "d3d9824f",
   "metadata": {},
   "outputs": [
    {
     "name": "stdout",
     "output_type": "stream",
     "text": [
      "1     elephant\n",
      "1       monkey\n",
      "21        bear\n",
      "13       tiger\n",
      "dtype: object\n",
      "\n",
      "\n",
      "bear\n"
     ]
    }
   ],
   "source": [
    "animals=[\"elephant\",\"monkey\",\"bear\",\"tiger\"]\n",
    "ani2=pd.Series(animals,index=[1,1,21,13])\n",
    "print(ani2)\n",
    "print()\n",
    "print()\n",
    "print(ani2.iloc[2])"
   ]
  },
  {
   "cell_type": "code",
   "execution_count": 50,
   "id": "03f1fafa",
   "metadata": {},
   "outputs": [
    {
     "name": "stdout",
     "output_type": "stream",
     "text": [
      "1     elephant\n",
      "1       monkey\n",
      "21        bear\n",
      "dtype: object\n",
      "\n",
      "\n",
      "1     monkey\n",
      "21      bear\n",
      "dtype: object\n"
     ]
    }
   ],
   "source": [
    "#use of slicing in iloc\n",
    "print(ani2.iloc[:3])\n",
    "print()\n",
    "print()\n",
    "print(ani2.iloc[1:3])"
   ]
  },
  {
   "cell_type": "code",
   "execution_count": 10,
   "id": "b9364b80",
   "metadata": {},
   "outputs": [
    {
     "ename": "NameError",
     "evalue": "name 'car_sales' is not defined",
     "output_type": "error",
     "traceback": [
      "\u001b[1;31m---------------------------------------------------------------------------\u001b[0m",
      "\u001b[1;31mNameError\u001b[0m                                 Traceback (most recent call last)",
      "Input \u001b[1;32mIn [10]\u001b[0m, in \u001b[0;36m<cell line: 2>\u001b[1;34m()\u001b[0m\n\u001b[0;32m      1\u001b[0m \u001b[38;5;66;03m#if we want to individualy print any coluimn\u001b[39;00m\n\u001b[1;32m----> 2\u001b[0m \u001b[38;5;28mprint\u001b[39m(\u001b[43mcar_sales\u001b[49m[\u001b[38;5;124m\"\u001b[39m\u001b[38;5;124mColour\u001b[39m\u001b[38;5;124m\"\u001b[39m])\n",
      "\u001b[1;31mNameError\u001b[0m: name 'car_sales' is not defined"
     ]
    }
   ],
   "source": [
    "#if we want to individualy print any coluimn\n",
    "print(car_sales[\"Colour\"])"
   ]
  },
  {
   "cell_type": "code",
   "execution_count": 53,
   "id": "1f19ab32",
   "metadata": {},
   "outputs": [
    {
     "name": "stdout",
     "output_type": "stream",
     "text": [
      "0    White\n",
      "1      Red\n",
      "2     Blue\n",
      "3    Black\n",
      "4    White\n",
      "5    Green\n",
      "6     Blue\n",
      "7     Blue\n",
      "8    White\n",
      "9    White\n",
      "Name: Colour, dtype: object\n"
     ]
    }
   ],
   "source": [
    "#we can do the save things by\n",
    "print(car_sales.Colour)"
   ]
  },
  {
   "cell_type": "code",
   "execution_count": 61,
   "id": "4ac31afc",
   "metadata": {},
   "outputs": [
    {
     "name": "stdout",
     "output_type": "stream",
     "text": [
      "     Make Colour  Odometer (KM)  Doors       Price\n",
      "0  Toyota  White         150043      4   $4,000.00\n",
      "1   Honda    Red          87899      4   $5,000.00\n",
      "2  Toyota   Blue          32549      3   $7,000.00\n",
      "3     BMW  Black          11179      5  $22,000.00\n",
      "4  Nissan  White         213095      4   $3,500.00\n",
      "5  Toyota  Green          99213      4   $4,500.00\n",
      "6   Honda   Blue          45698      4   $7,500.00\n",
      "7   Honda   Blue          54738      4   $7,000.00\n",
      "8  Toyota  White          60000      4   $6,250.00\n",
      "9  Nissan  White          31600      4   $9,700.00\n",
      "\n",
      "\n",
      "\n",
      "printing the data with only Blue Colour\n",
      "     Make Colour  Odometer (KM)  Doors      Price\n",
      "2  Toyota   Blue          32549      3  $7,000.00\n",
      "6   Honda   Blue          45698      4  $7,500.00\n",
      "7   Honda   Blue          54738      4  $7,000.00\n",
      "\n",
      "\n",
      "printing the data which cover distance greather than 10000\n",
      "     Make Colour  Odometer (KM)  Doors       Price\n",
      "0  Toyota  White         150043      4   $4,000.00\n",
      "1   Honda    Red          87899      4   $5,000.00\n",
      "2  Toyota   Blue          32549      3   $7,000.00\n",
      "3     BMW  Black          11179      5  $22,000.00\n",
      "4  Nissan  White         213095      4   $3,500.00\n",
      "5  Toyota  Green          99213      4   $4,500.00\n",
      "6   Honda   Blue          45698      4   $7,500.00\n",
      "7   Honda   Blue          54738      4   $7,000.00\n",
      "8  Toyota  White          60000      4   $6,250.00\n",
      "9  Nissan  White          31600      4   $9,700.00\n"
     ]
    }
   ],
   "source": [
    "#if we want to only get the imformation of the specific row\n",
    "# for example here i print the only data whose colour is red\n",
    "print(car_sales)\n",
    "print()\n",
    "print()\n",
    "print()\n",
    "print(\"printing the data with only Blue Colour\")\n",
    "print(car_sales[car_sales[\"Colour\"]==\"Blue\"])\n",
    "print()\n",
    "print()\n",
    "print(\"printing the data which cover distance greather than 10000\")\n",
    "print(car_sales[car_sales[\"Odometer (KM)\"] > 10000])"
   ]
  },
  {
   "cell_type": "markdown",
   "id": "b854df4a",
   "metadata": {},
   "source": [
    "## comparing two data\n"
   ]
  },
  {
   "cell_type": "code",
   "execution_count": 12,
   "id": "ac9d903f",
   "metadata": {},
   "outputs": [
    {
     "data": {
      "text/html": [
       "<div>\n",
       "<style scoped>\n",
       "    .dataframe tbody tr th:only-of-type {\n",
       "        vertical-align: middle;\n",
       "    }\n",
       "\n",
       "    .dataframe tbody tr th {\n",
       "        vertical-align: top;\n",
       "    }\n",
       "\n",
       "    .dataframe thead th {\n",
       "        text-align: right;\n",
       "    }\n",
       "</style>\n",
       "<table border=\"1\" class=\"dataframe\">\n",
       "  <thead>\n",
       "    <tr style=\"text-align: right;\">\n",
       "      <th>Doors</th>\n",
       "      <th>3</th>\n",
       "      <th>4</th>\n",
       "      <th>5</th>\n",
       "    </tr>\n",
       "    <tr>\n",
       "      <th>Make</th>\n",
       "      <th></th>\n",
       "      <th></th>\n",
       "      <th></th>\n",
       "    </tr>\n",
       "  </thead>\n",
       "  <tbody>\n",
       "    <tr>\n",
       "      <th>BMW</th>\n",
       "      <td>0</td>\n",
       "      <td>0</td>\n",
       "      <td>1</td>\n",
       "    </tr>\n",
       "    <tr>\n",
       "      <th>Honda</th>\n",
       "      <td>0</td>\n",
       "      <td>3</td>\n",
       "      <td>0</td>\n",
       "    </tr>\n",
       "    <tr>\n",
       "      <th>Nissan</th>\n",
       "      <td>0</td>\n",
       "      <td>2</td>\n",
       "      <td>0</td>\n",
       "    </tr>\n",
       "    <tr>\n",
       "      <th>Toyota</th>\n",
       "      <td>1</td>\n",
       "      <td>3</td>\n",
       "      <td>0</td>\n",
       "    </tr>\n",
       "  </tbody>\n",
       "</table>\n",
       "</div>"
      ],
      "text/plain": [
       "Doors   3  4  5\n",
       "Make           \n",
       "BMW     0  0  1\n",
       "Honda   0  3  0\n",
       "Nissan  0  2  0\n",
       "Toyota  1  3  0"
      ]
     },
     "execution_count": 12,
     "metadata": {},
     "output_type": "execute_result"
    }
   ],
   "source": [
    "pd.crosstab(car_sales[\"Make\"], car_sales[\"Doors\"])"
   ]
  },
  {
   "cell_type": "code",
   "execution_count": 14,
   "id": "b3ab1eab",
   "metadata": {},
   "outputs": [
    {
     "data": {
      "text/html": [
       "<div>\n",
       "<style scoped>\n",
       "    .dataframe tbody tr th:only-of-type {\n",
       "        vertical-align: middle;\n",
       "    }\n",
       "\n",
       "    .dataframe tbody tr th {\n",
       "        vertical-align: top;\n",
       "    }\n",
       "\n",
       "    .dataframe thead th {\n",
       "        text-align: right;\n",
       "    }\n",
       "</style>\n",
       "<table border=\"1\" class=\"dataframe\">\n",
       "  <thead>\n",
       "    <tr style=\"text-align: right;\">\n",
       "      <th></th>\n",
       "      <th>Odometer (KM)</th>\n",
       "      <th>Doors</th>\n",
       "    </tr>\n",
       "    <tr>\n",
       "      <th>Make</th>\n",
       "      <th></th>\n",
       "      <th></th>\n",
       "    </tr>\n",
       "  </thead>\n",
       "  <tbody>\n",
       "    <tr>\n",
       "      <th>BMW</th>\n",
       "      <td>11179.000000</td>\n",
       "      <td>5.00</td>\n",
       "    </tr>\n",
       "    <tr>\n",
       "      <th>Honda</th>\n",
       "      <td>62778.333333</td>\n",
       "      <td>4.00</td>\n",
       "    </tr>\n",
       "    <tr>\n",
       "      <th>Nissan</th>\n",
       "      <td>122347.500000</td>\n",
       "      <td>4.00</td>\n",
       "    </tr>\n",
       "    <tr>\n",
       "      <th>Toyota</th>\n",
       "      <td>85451.250000</td>\n",
       "      <td>3.75</td>\n",
       "    </tr>\n",
       "  </tbody>\n",
       "</table>\n",
       "</div>"
      ],
      "text/plain": [
       "        Odometer (KM)  Doors\n",
       "Make                        \n",
       "BMW      11179.000000   5.00\n",
       "Honda    62778.333333   4.00\n",
       "Nissan  122347.500000   4.00\n",
       "Toyota   85451.250000   3.75"
      ]
     },
     "execution_count": 14,
     "metadata": {},
     "output_type": "execute_result"
    }
   ],
   "source": [
    "## the use of group_bu\n",
    "car_sales.groupby([\"Make\"]).mean()"
   ]
  },
  {
   "cell_type": "code",
   "execution_count": 15,
   "id": "409daa95",
   "metadata": {},
   "outputs": [
    {
     "data": {
      "text/plain": [
       "<AxesSubplot:>"
      ]
     },
     "execution_count": 15,
     "metadata": {},
     "output_type": "execute_result"
    },
    {
     "data": {
      "image/png": "[encoded data removed]",
      "text/plain": [
       "<Figure size 432x288 with 1 Axes>"
      ]
     },
     "metadata": {
      "needs_background": "light"
     },
     "output_type": "display_data"
    }
   ],
   "source": [
    "car_sales[\"Doors\"].plot()"
   ]
  },
  {
   "cell_type": "code",
   "execution_count": 16,
   "id": "071d02b6",
   "metadata": {},
   "outputs": [
    {
     "data": {
      "text/plain": [
       "<AxesSubplot:>"
      ]
     },
     "execution_count": 16,
     "metadata": {},
     "output_type": "execute_result"
    },
    {
     "data": {
      "image/png": "[encoded data removed]",
      "text/plain": [
       "<Figure size 432x288 with 1 Axes>"
      ]
     },
     "metadata": {
      "needs_background": "light"
     },
     "output_type": "display_data"
    }
   ],
   "source": [
    "car_sales[\"Doors\"].hist()"
   ]
  },
  {
   "cell_type": "markdown",
   "id": "75803e99",
   "metadata": {},
   "source": [
    "## MANIPULATING OF DATA"
   ]
  },
  {
   "cell_type": "code",
   "execution_count": 11,
   "id": "bf61e239",
   "metadata": {},
   "outputs": [
    {
     "name": "stdout",
     "output_type": "stream",
     "text": [
      "0    toyota\n",
      "1     honda\n",
      "2    toyota\n",
      "3       bmw\n",
      "4    nissan\n",
      "5    toyota\n",
      "6     honda\n",
      "7     honda\n",
      "8    toyota\n",
      "9    nissan\n",
      "Name: Make, dtype: object\n"
     ]
    }
   ],
   "source": [
    "#lowecase the string\n",
    "print(car_sales['Make'].str.lower())"
   ]
  },
  {
   "cell_type": "code",
   "execution_count": 12,
   "id": "bda11488",
   "metadata": {},
   "outputs": [
    {
     "name": "stdout",
     "output_type": "stream",
     "text": [
      "     Make Colour  Odometer (KM)  Doors       Price\n",
      "0  toyota  White         150043      4   $4,000.00\n",
      "1   honda    Red          87899      4   $5,000.00\n",
      "2  toyota   Blue          32549      3   $7,000.00\n",
      "3     bmw  Black          11179      5  $22,000.00\n",
      "4  nissan  White         213095      4   $3,500.00\n",
      "5  toyota  Green          99213      4   $4,500.00\n",
      "6   honda   Blue          45698      4   $7,500.00\n",
      "7   honda   Blue          54738      4   $7,000.00\n",
      "8  toyota  White          60000      4   $6,250.00\n",
      "9  nissan  White          31600      4   $9,700.00\n"
     ]
    }
   ],
   "source": [
    "#but the string we convert to the lowercase do not  save to\n",
    "#so we have to reassign its value\n",
    "car_sales[\"Make\"]=car_sales[\"Make\"].str.lower()\n",
    "print(car_sales)"
   ]
  },
  {
   "cell_type": "markdown",
   "id": "78f5bc71",
   "metadata": {},
   "source": [
    "## MANIPULATING THE MISSING DATA"
   ]
  },
  {
   "cell_type": "code",
   "execution_count": 15,
   "id": "d1994bd4",
   "metadata": {},
   "outputs": [
    {
     "name": "stdout",
     "output_type": "stream",
     "text": [
      "     Make Colour  Odometer  Doors    Price\n",
      "0  Toyota  White  150043.0    4.0   $4,000\n",
      "1   Honda    Red   87899.0    4.0   $5,000\n",
      "2  Toyota   Blue       NaN    3.0   $7,000\n",
      "3     BMW  Black   11179.0    5.0  $22,000\n",
      "4  Nissan  White  213095.0    4.0   $3,500\n",
      "5  Toyota  Green       NaN    4.0   $4,500\n",
      "6   Honda    NaN       NaN    4.0   $7,500\n",
      "7   Honda   Blue       NaN    4.0      NaN\n",
      "8  Toyota  White   60000.0    NaN      NaN\n",
      "9     NaN  White   31600.0    4.0   $9,700\n"
     ]
    }
   ],
   "source": [
    "car_missing=pd.read_csv(\"car-sales-missing-data.csv\")\n",
    "print(car_missing)"
   ]
  },
  {
   "cell_type": "code",
   "execution_count": 18,
   "id": "e87547b9",
   "metadata": {},
   "outputs": [
    {
     "name": "stdout",
     "output_type": "stream",
     "text": [
      "     Make Colour       Odometer  Doors    Price\n",
      "0  Toyota  White  150043.000000    4.0   $4,000\n",
      "1   Honda    Red   87899.000000    4.0   $5,000\n",
      "2  Toyota   Blue   92302.666667    3.0   $7,000\n",
      "3     BMW  Black   11179.000000    5.0  $22,000\n",
      "4  Nissan  White  213095.000000    4.0   $3,500\n",
      "5  Toyota  Green   92302.666667    4.0   $4,500\n",
      "6   Honda    NaN   92302.666667    4.0   $7,500\n",
      "7   Honda   Blue   92302.666667    4.0      NaN\n",
      "8  Toyota  White   60000.000000    NaN      NaN\n",
      "9     NaN  White   31600.000000    4.0   $9,700\n"
     ]
    }
   ],
   "source": [
    "##FILLING THE MISSING VALUE\n",
    "#for example filling the missing value with the mean of that value\n",
    "car_missing[\"Odometer\"]=car_missing[\"Odometer\"].fillna(car_missing[\"Odometer\"].mean())\n",
    "print(car_missing)\n",
    "                               "
   ]
  },
  {
   "cell_type": "code",
   "execution_count": 20,
   "id": "99dd48d1",
   "metadata": {},
   "outputs": [
    {
     "name": "stdout",
     "output_type": "stream",
     "text": [
      "     Make Colour       Odometer  Doors    Price\n",
      "0  Toyota  White  150043.000000    4.0   $4,000\n",
      "1   Honda    Red   87899.000000    4.0   $5,000\n",
      "2  Toyota   Blue   92302.666667    3.0   $7,000\n",
      "3     BMW  Black   11179.000000    5.0  $22,000\n",
      "4  Nissan  White  213095.000000    4.0   $3,500\n",
      "5  Toyota  Green   92302.666667    4.0   $4,500\n",
      "6   Honda    NaN   92302.666667    4.0   $7,500\n",
      "7   Honda   Blue   92302.666667    4.0      NaN\n",
      "8  Toyota  White   60000.000000    NaN      NaN\n",
      "9     NaN  White   31600.000000    4.0   $9,700\n"
     ]
    }
   ],
   "source": [
    "#if we do not want to reassign the value we can use the inplace function\n",
    "car_missing[\"Odometer\"].fillna(car_missing[\"Odometer\"].mean(),inplace=True)\n",
    "print(car_missing)"
   ]
  },
  {
   "cell_type": "code",
   "execution_count": 22,
   "id": "e38d9157",
   "metadata": {},
   "outputs": [
    {
     "name": "stdout",
     "output_type": "stream",
     "text": [
      "     Make Colour       Odometer  Doors    Price\n",
      "0  Toyota  White  150043.000000    4.0   $4,000\n",
      "1   Honda    Red   87899.000000    4.0   $5,000\n",
      "2  Toyota   Blue   92302.666667    3.0   $7,000\n",
      "3     BMW  Black   11179.000000    5.0  $22,000\n",
      "4  Nissan  White  213095.000000    4.0   $3,500\n",
      "5  Toyota  Green   92302.666667    4.0   $4,500\n"
     ]
    }
   ],
   "source": [
    "#if we want to drop the missing values\n",
    "car_missing.dropna(inplace=True)\n",
    "print(car_missing)"
   ]
  },
  {
   "cell_type": "code",
   "execution_count": 23,
   "id": "0799ef20",
   "metadata": {},
   "outputs": [],
   "source": [
    "#saving the csv file with all the drop value\n",
    "car_missing.to_csv(\"car_Sales_with_drop_value.csv\")"
   ]
  },
  {
   "cell_type": "code",
   "execution_count": 3,
   "id": "832664f5",
   "metadata": {},
   "outputs": [
    {
     "name": "stdout",
     "output_type": "stream",
     "text": [
      "     Make Colour  Odometer (KM)  Doors       Price  new-one\n",
      "0  Toyota  White         150043      4   $4,000.00     12.0\n",
      "1   Honda    Red          87899      4   $5,000.00     13.0\n",
      "2  Toyota   Blue          32549      3   $7,000.00     14.0\n",
      "3     BMW  Black          11179      5  $22,000.00     15.0\n",
      "4  Nissan  White         213095      4   $3,500.00     14.0\n",
      "5  Toyota  Green          99213      4   $4,500.00      NaN\n",
      "6   Honda   Blue          45698      4   $7,500.00      NaN\n",
      "7   Honda   Blue          54738      4   $7,000.00      NaN\n",
      "8  Toyota  White          60000      4   $6,250.00      NaN\n",
      "9  Nissan  White          31600      4   $9,700.00      NaN\n"
     ]
    }
   ],
   "source": [
    "#adding a new colum for seats\n",
    "import pandas as pd\n",
    "new_column=pd.Series([12,13,14,15,14])\n",
    "car_sales=pd.read_csv(\"car-sales.csv\")\n",
    "car_sales[\"new-one\"]=new_column\n",
    "print(car_sales)"
   ]
  },
  {
   "cell_type": "code",
   "execution_count": 9,
   "id": "32046f84",
   "metadata": {},
   "outputs": [
    {
     "name": "stdout",
     "output_type": "stream",
     "text": [
      "     Make Colour  Odometer (KM)  Doors       Price  new-one\n",
      "0  Toyota  White         150043      4   $4,000.00        5\n",
      "1   Honda    Red          87899      4   $5,000.00        5\n",
      "2  Toyota   Blue          32549      3   $7,000.00        5\n",
      "3     BMW  Black          11179      5  $22,000.00        5\n",
      "4  Nissan  White         213095      4   $3,500.00        5\n",
      "5  Toyota  Green          99213      4   $4,500.00        5\n",
      "6   Honda   Blue          45698      4   $7,500.00        5\n",
      "7   Honda   Blue          54738      4   $7,000.00        5\n",
      "8  Toyota  White          60000      4   $6,250.00        5\n",
      "9  Nissan  White          31600      4   $9,700.00        5\n"
     ]
    }
   ],
   "source": [
    "#filling the null(na) value\n",
    "car_sales[\"new-one\"]=car_sales[\"new-one\"].fillna(5)\n",
    "print(car_sales)"
   ]
  },
  {
   "cell_type": "code",
   "execution_count": 11,
   "id": "1699bf25",
   "metadata": {},
   "outputs": [
    {
     "name": "stdout",
     "output_type": "stream",
     "text": [
      "     Make Colour  Odometer (KM)  Doors       Price  new-one  economy\n",
      "0  Toyota  White         150043      4   $4,000.00        5    12.13\n",
      "1   Honda    Red          87899      4   $5,000.00        5    13.00\n",
      "2  Toyota   Blue          32549      3   $7,000.00        5    12.00\n",
      "3     BMW  Black          11179      5  $22,000.00        5    13.00\n",
      "4  Nissan  White         213095      4   $3,500.00        5    21.00\n",
      "5  Toyota  Green          99213      4   $4,500.00        5    41.00\n",
      "6   Honda   Blue          45698      4   $7,500.00        5    14.00\n",
      "7   Honda   Blue          54738      4   $7,000.00        5    41.00\n",
      "8  Toyota  White          60000      4   $6,250.00        5    11.00\n",
      "9  Nissan  White          31600      4   $9,700.00        5    12.00\n"
     ]
    }
   ],
   "source": [
    "#adding the new column from the list\n",
    "#but for this we have to add elements = to number of items/index\n",
    "fuel_eco=[12.13,13,12,13,21,41,14,41,11,12]\n",
    "car_sales[\"economy\"]=fuel_eco\n",
    "print(car_sales)"
   ]
  },
  {
   "cell_type": "code",
   "execution_count": 15,
   "id": "0cc990c2",
   "metadata": {},
   "outputs": [
    {
     "name": "stdout",
     "output_type": "stream",
     "text": [
      "     Make Colour  Odometer (KM)  Doors       Price  new-one  economy  \\\n",
      "0  Toyota  White         150043      4   $4,000.00        5    12.13   \n",
      "1   Honda    Red          87899      4   $5,000.00        5    13.00   \n",
      "2  Toyota   Blue          32549      3   $7,000.00        5    12.00   \n",
      "3     BMW  Black          11179      5  $22,000.00        5    13.00   \n",
      "4  Nissan  White         213095      4   $3,500.00        5    21.00   \n",
      "5  Toyota  Green          99213      4   $4,500.00        5    41.00   \n",
      "6   Honda   Blue          45698      4   $7,500.00        5    14.00   \n",
      "7   Honda   Blue          54738      4   $7,000.00        5    41.00   \n",
      "8  Toyota  White          60000      4   $6,250.00        5    11.00   \n",
      "9  Nissan  White          31600      4   $9,700.00        5    12.00   \n",
      "\n",
      "   total_fuel  \n",
      "0  18200.2159  \n",
      "1  11426.8700  \n",
      "2   3905.8800  \n",
      "3   1453.2700  \n",
      "4  44749.9500  \n",
      "5  40677.3300  \n",
      "6   6397.7200  \n",
      "7  22442.5800  \n",
      "8   6600.0000  \n",
      "9   3792.0000  \n"
     ]
    }
   ],
   "source": [
    "car_sales[\"total_fuel\"]=car_sales[\"Odometer (KM)\"]/100*car_sales[\"economy\"]\n",
    "print(car_sales)"
   ]
  },
  {
   "cell_type": "code",
   "execution_count": 16,
   "id": "0c5879b6",
   "metadata": {},
   "outputs": [
    {
     "name": "stdout",
     "output_type": "stream",
     "text": [
      "     Make Colour  Odometer (KM)  Doors       Price  economy  total_fuel\n",
      "0  Toyota  White         150043      4   $4,000.00    12.13  18200.2159\n",
      "1   Honda    Red          87899      4   $5,000.00    13.00  11426.8700\n",
      "2  Toyota   Blue          32549      3   $7,000.00    12.00   3905.8800\n",
      "3     BMW  Black          11179      5  $22,000.00    13.00   1453.2700\n",
      "4  Nissan  White         213095      4   $3,500.00    21.00  44749.9500\n",
      "5  Toyota  Green          99213      4   $4,500.00    41.00  40677.3300\n",
      "6   Honda   Blue          45698      4   $7,500.00    14.00   6397.7200\n",
      "7   Honda   Blue          54738      4   $7,000.00    41.00  22442.5800\n",
      "8  Toyota  White          60000      4   $6,250.00    11.00   6600.0000\n",
      "9  Nissan  White          31600      4   $9,700.00    12.00   3792.0000\n"
     ]
    }
   ],
   "source": [
    "# if we want to remove any column we do not want we will use the drop method\n",
    "car_sales=car_sales.drop(\"new-one\",axis=1)\n",
    "print(car_sales)"
   ]
  },
  {
   "cell_type": "code",
   "execution_count": 2,
   "id": "bdba4325",
   "metadata": {},
   "outputs": [
    {
     "name": "stdout",
     "output_type": "stream",
     "text": [
      "     Make Colour  Odometer (KM)  Doors       Price\n",
      "3     BMW  Black          11179      5  $22,000.00\n",
      "0  Toyota  White         150043      4   $4,000.00\n",
      "5  Toyota  Green          99213      4   $4,500.00\n",
      "2  Toyota   Blue          32549      3   $7,000.00\n",
      "4  Nissan  White         213095      4   $3,500.00\n",
      "7   Honda   Blue          54738      4   $7,000.00\n",
      "1   Honda    Red          87899      4   $5,000.00\n",
      "9  Nissan  White          31600      4   $9,700.00\n",
      "8  Toyota  White          60000      4   $6,250.00\n",
      "6   Honda   Blue          45698      4   $7,500.00\n"
     ]
    }
   ],
   "source": [
    "# suffling the data\n",
    "\n",
    "import pandas as pd\n",
    "car_sales=pd.read_csv(\"car-sales.csv\")\n",
    "car_sale_suffled=car_sales.sample(frac=1)\n",
    "print(car_sale_suffled)\n",
    "\n",
    "#frac=1 refers to suffle all the data means suffle 100% of the data\n",
    "#frac=0.5 refers to 50% of the data and so on.........\n"
   ]
  },
  {
   "cell_type": "code",
   "execution_count": 4,
   "id": "9ec052e0",
   "metadata": {},
   "outputs": [
    {
     "name": "stdout",
     "output_type": "stream",
     "text": [
      "     Make Colour  Odometer (KM)  Doors       Price\n",
      "0     BMW  Black          11179      5  $22,000.00\n",
      "1  Toyota  White         150043      4   $4,000.00\n",
      "2  Toyota  Green          99213      4   $4,500.00\n",
      "3  Toyota   Blue          32549      3   $7,000.00\n",
      "4  Nissan  White         213095      4   $3,500.00\n",
      "5   Honda   Blue          54738      4   $7,000.00\n",
      "6   Honda    Red          87899      4   $5,000.00\n",
      "7  Nissan  White          31600      4   $9,700.00\n",
      "8  Toyota  White          60000      4   $6,250.00\n",
      "9   Honda   Blue          45698      4   $7,500.00\n"
     ]
    }
   ],
   "source": [
    "# reseting the suffled data\n",
    "car_sale_suffled.reset_index(drop=True, inplace=True)\n",
    "print(car_sale_suffled)"
   ]
  },
  {
   "cell_type": "code",
   "execution_count": 5,
   "id": "74789a77",
   "metadata": {},
   "outputs": [
    {
     "name": "stdout",
     "output_type": "stream",
     "text": [
      "     Make Colour  Odometer (KM)  Doors       Price\n",
      "0  Toyota  White        3000.86      4   $4,000.00\n",
      "1   Honda    Red        1757.98      4   $5,000.00\n",
      "2  Toyota   Blue         650.98      3   $7,000.00\n",
      "3     BMW  Black         223.58      5  $22,000.00\n",
      "4  Nissan  White        4261.90      4   $3,500.00\n",
      "5  Toyota  Green        1984.26      4   $4,500.00\n",
      "6   Honda   Blue         913.96      4   $7,500.00\n",
      "7   Honda   Blue        1094.76      4   $7,000.00\n",
      "8  Toyota  White        1200.00      4   $6,250.00\n",
      "9  Nissan  White         632.00      4   $9,700.00\n"
     ]
    }
   ],
   "source": [
    "#applying a function to a column\n",
    "#using the lamda function\n",
    "\n",
    "car_sales[\"Odometer (KM)\"]=car_sales[\"Odometer (KM)\"].apply(lambda x:x/1.6)\n",
    "print(car_sales)"
   ]
  },
  {
   "cell_type": "code",
   "execution_count": null,
   "id": "3dcfa9ea",
   "metadata": {},
   "outputs": [],
   "source": []
  }
 ],
 "metadata": {
  "kernelspec": {
   "display_name": "Python 3 (ipykernel)",
   "language": "python",
   "name": "python3"
  },
  "language_info": {
   "codemirror_mode": {
    "name": "ipython",
    "version": 3
   },
   "file_extension": ".py",
   "mimetype": "text/x-python",
   "name": "python",
   "nbconvert_exporter": "python",
   "pygments_lexer": "ipython3",
   "version": "3.9.12"
  }
 },
 "nbformat": 4,
 "nbformat_minor": 5
}
