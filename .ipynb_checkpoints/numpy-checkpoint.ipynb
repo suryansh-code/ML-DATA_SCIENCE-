{
 "cells": [
  {
   "cell_type": "markdown",
   "id": "5dab4232",
   "metadata": {},
   "source": [
    "NUMPY\n",
    "\n"
   ]
  },
  {
   "cell_type": "code",
   "execution_count": 4,
   "id": "31b63c50",
   "metadata": {},
   "outputs": [],
   "source": [
    "#WHY NUMPY\n",
    "# ITS FAST\n",
    "# BEHIND THE SCENES OPTIMIZATIONS WRITTEN IN C\n",
    "# VECTORIZATION VIA BROADCASTING(AVOIDING LOOPS)\n",
    "# BACKBONE OF OTHER PYTHON SCIENTIFIC PACKAGES"
   ]
  },
  {
   "cell_type": "code",
   "execution_count": 1,
   "id": "3a0340f4",
   "metadata": {},
   "outputs": [],
   "source": [
    "#IMPORTING NUMPY LIBRARY\n",
    "import numpy as np"
   ]
  },
  {
   "cell_type": "markdown",
   "id": "a00c1d28",
   "metadata": {},
   "source": [
    "#datatypes and atributes\n"
   ]
  }
 ],
 "metadata": {
  "kernelspec": {
   "display_name": "Python 3 (ipykernel)",
   "language": "python",
   "name": "python3"
  },
  "language_info": {
   "codemirror_mode": {
    "name": "ipython",
    "version": 3
   },
   "file_extension": ".py",
   "mimetype": "text/x-python",
   "name": "python",
   "nbconvert_exporter": "python",
   "pygments_lexer": "ipython3",
   "version": "3.9.12"
  }
 },
 "nbformat": 4,
 "nbformat_minor": 5
}
